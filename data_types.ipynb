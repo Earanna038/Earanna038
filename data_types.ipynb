{
  "nbformat": 4,
  "nbformat_minor": 0,
  "metadata": {
    "colab": {
      "name": "Untitled1.ipynb",
      "provenance": [],
      "authorship_tag": "ABX9TyPtfzbe+nhtrl0Zs9veLyM0",
      "include_colab_link": true
    },
    "kernelspec": {
      "name": "python3",
      "display_name": "Python 3"
    },
    "language_info": {
      "name": "python"
    }
  },
  "cells": [
    {
      "cell_type": "markdown",
      "metadata": {
        "id": "view-in-github",
        "colab_type": "text"
      },
      "source": [
        "<a href=\"https://colab.research.google.com/github/Earanna038/Earanna038/blob/main/data_types.ipynb\" target=\"_parent\"><img src=\"https://colab.research.google.com/assets/colab-badge.svg\" alt=\"Open In Colab\"/></a>"
      ]
    },
    {
      "cell_type": "code",
      "source": [
        "a=[1,2,3,4,5]"
      ],
      "metadata": {
        "id": "DPPlJrgVp64y"
      },
      "execution_count": 1,
      "outputs": []
    },
    {
      "cell_type": "code",
      "source": [
        "a"
      ],
      "metadata": {
        "colab": {
          "base_uri": "https://localhost:8080/"
        },
        "id": "mepg7o4lqP81",
        "outputId": "b6c89372-9cec-43ce-a8ac-ac41167fe9b4"
      },
      "execution_count": 2,
      "outputs": [
        {
          "output_type": "execute_result",
          "data": {
            "text/plain": [
              "[1, 2, 3, 4, 5]"
            ]
          },
          "metadata": {},
          "execution_count": 2
        }
      ]
    },
    {
      "cell_type": "code",
      "source": [
        "a*2"
      ],
      "metadata": {
        "colab": {
          "base_uri": "https://localhost:8080/"
        },
        "id": "XvlSmLlXqUVC",
        "outputId": "b8b4f55f-bbd1-4f43-89a9-e7933786f260"
      },
      "execution_count": 3,
      "outputs": [
        {
          "output_type": "execute_result",
          "data": {
            "text/plain": [
              "[1, 2, 3, 4, 5, 1, 2, 3, 4, 5]"
            ]
          },
          "metadata": {},
          "execution_count": 3
        }
      ]
    },
    {
      "cell_type": "code",
      "source": [
        "import numpy as np"
      ],
      "metadata": {
        "id": "wPy4NokwqfVf"
      },
      "execution_count": 4,
      "outputs": []
    },
    {
      "cell_type": "code",
      "source": [
        "array1=np.array([1,2,3,4,5,'a'])"
      ],
      "metadata": {
        "id": "B9huZBwwqkZo"
      },
      "execution_count": 5,
      "outputs": []
    },
    {
      "cell_type": "code",
      "source": [
        "array1"
      ],
      "metadata": {
        "colab": {
          "base_uri": "https://localhost:8080/"
        },
        "id": "Mivdo_hvqqO8",
        "outputId": "5d151104-b64f-47ce-a33c-f8413c14de7a"
      },
      "execution_count": 6,
      "outputs": [
        {
          "output_type": "execute_result",
          "data": {
            "text/plain": [
              "array(['1', '2', '3', '4', '5', 'a'], dtype='<U21')"
            ]
          },
          "metadata": {},
          "execution_count": 6
        }
      ]
    },
    {
      "cell_type": "code",
      "source": [
        "array1.dtype"
      ],
      "metadata": {
        "colab": {
          "base_uri": "https://localhost:8080/"
        },
        "id": "lSl4npO4qyU-",
        "outputId": "88ec5af5-3381-4ea5-8875-447e7f357adb"
      },
      "execution_count": 7,
      "outputs": [
        {
          "output_type": "execute_result",
          "data": {
            "text/plain": [
              "dtype('<U21')"
            ]
          },
          "metadata": {},
          "execution_count": 7
        }
      ]
    },
    {
      "cell_type": "code",
      "source": [
        "b=np.array([1,2,3,4,5])"
      ],
      "metadata": {
        "id": "XncLfofEq5xc"
      },
      "execution_count": 8,
      "outputs": []
    },
    {
      "cell_type": "code",
      "source": [
        "b"
      ],
      "metadata": {
        "colab": {
          "base_uri": "https://localhost:8080/"
        },
        "id": "Q5Da8oV-q9bG",
        "outputId": "f01c07af-bbb5-42b6-f12f-be178c3d64f9"
      },
      "execution_count": 9,
      "outputs": [
        {
          "output_type": "execute_result",
          "data": {
            "text/plain": [
              "array([1, 2, 3, 4, 5])"
            ]
          },
          "metadata": {},
          "execution_count": 9
        }
      ]
    },
    {
      "cell_type": "code",
      "source": [
        "b.ndim\n",
        "#dimensions"
      ],
      "metadata": {
        "colab": {
          "base_uri": "https://localhost:8080/"
        },
        "id": "m0s-qEJbrAIy",
        "outputId": "97c04cbc-cf29-43ae-e704-7b8b2dffd7f9"
      },
      "execution_count": 11,
      "outputs": [
        {
          "output_type": "execute_result",
          "data": {
            "text/plain": [
              "1"
            ]
          },
          "metadata": {},
          "execution_count": 11
        }
      ]
    },
    {
      "cell_type": "code",
      "source": [
        "b.shape"
      ],
      "metadata": {
        "colab": {
          "base_uri": "https://localhost:8080/"
        },
        "id": "Vdf_vkJjrHtq",
        "outputId": "b80f2067-eff9-443b-f46f-61b82322307e"
      },
      "execution_count": 13,
      "outputs": [
        {
          "output_type": "execute_result",
          "data": {
            "text/plain": [
              "(5,)"
            ]
          },
          "metadata": {},
          "execution_count": 13
        }
      ]
    },
    {
      "cell_type": "code",
      "source": [
        "b=np.array([[1,2,3,4,5],[2,3,4,5,6]])"
      ],
      "metadata": {
        "id": "PDIyPRZOrUFl"
      },
      "execution_count": 15,
      "outputs": []
    },
    {
      "cell_type": "code",
      "source": [
        "b.shape\n",
        "#b.ndim"
      ],
      "metadata": {
        "colab": {
          "base_uri": "https://localhost:8080/"
        },
        "id": "TFffz7AfreBn",
        "outputId": "8858982e-0f47-4d35-cf0f-9248a2b461d5"
      },
      "execution_count": 17,
      "outputs": [
        {
          "output_type": "execute_result",
          "data": {
            "text/plain": [
              "(2, 5)"
            ]
          },
          "metadata": {},
          "execution_count": 17
        }
      ]
    },
    {
      "cell_type": "code",
      "source": [
        "b.ndim"
      ],
      "metadata": {
        "colab": {
          "base_uri": "https://localhost:8080/"
        },
        "id": "zV7FG4ZxrkX0",
        "outputId": "dc07639b-cb65-4b36-df61-a644e081960b"
      },
      "execution_count": 18,
      "outputs": [
        {
          "output_type": "execute_result",
          "data": {
            "text/plain": [
              "2"
            ]
          },
          "metadata": {},
          "execution_count": 18
        }
      ]
    },
    {
      "cell_type": "code",
      "source": [
        "c=np.ones((5,2))"
      ],
      "metadata": {
        "id": "Bh4POQIor75C"
      },
      "execution_count": 20,
      "outputs": []
    },
    {
      "cell_type": "code",
      "source": [
        "c"
      ],
      "metadata": {
        "colab": {
          "base_uri": "https://localhost:8080/"
        },
        "id": "9-tex7USsGfb",
        "outputId": "3ed606b5-21e5-4a6a-cbf0-baf608ade21d"
      },
      "execution_count": 21,
      "outputs": [
        {
          "output_type": "execute_result",
          "data": {
            "text/plain": [
              "array([[1., 1.],\n",
              "       [1., 1.],\n",
              "       [1., 1.],\n",
              "       [1., 1.],\n",
              "       [1., 1.]])"
            ]
          },
          "metadata": {},
          "execution_count": 21
        }
      ]
    },
    {
      "cell_type": "code",
      "source": [
        "c=np.zeros((3,5))"
      ],
      "metadata": {
        "id": "NuaWtHiDsIQt"
      },
      "execution_count": 25,
      "outputs": []
    },
    {
      "cell_type": "code",
      "source": [
        "c"
      ],
      "metadata": {
        "colab": {
          "base_uri": "https://localhost:8080/"
        },
        "id": "6XGSfvhzsPQY",
        "outputId": "86026a1e-b49f-4b86-c323-af9bf497286d"
      },
      "execution_count": 26,
      "outputs": [
        {
          "output_type": "execute_result",
          "data": {
            "text/plain": [
              "array([[0., 0., 0., 0., 0.],\n",
              "       [0., 0., 0., 0., 0.],\n",
              "       [0., 0., 0., 0., 0.]])"
            ]
          },
          "metadata": {},
          "execution_count": 26
        }
      ]
    },
    {
      "cell_type": "code",
      "source": [
        "d=np.arange(10)"
      ],
      "metadata": {
        "id": "pQ-YD8r3sZKx"
      },
      "execution_count": 41,
      "outputs": []
    },
    {
      "cell_type": "code",
      "source": [
        "d"
      ],
      "metadata": {
        "colab": {
          "base_uri": "https://localhost:8080/"
        },
        "id": "bCX0nSG1scKc",
        "outputId": "16416d60-9293-42df-a90b-556313e7ad6e"
      },
      "execution_count": 42,
      "outputs": [
        {
          "output_type": "execute_result",
          "data": {
            "text/plain": [
              "array([0, 1, 2, 3, 4, 5, 6, 7, 8, 9])"
            ]
          },
          "metadata": {},
          "execution_count": 42
        }
      ]
    },
    {
      "cell_type": "code",
      "source": [
        "d1=np.arange(1,10)"
      ],
      "metadata": {
        "id": "jc_Ektnzsf-d"
      },
      "execution_count": 34,
      "outputs": []
    },
    {
      "cell_type": "code",
      "source": [
        "d1"
      ],
      "metadata": {
        "colab": {
          "base_uri": "https://localhost:8080/"
        },
        "id": "eL3zN_PbsjD6",
        "outputId": "eea2e47b-6e88-4680-87a2-2dfc5f69e65d"
      },
      "execution_count": 35,
      "outputs": [
        {
          "output_type": "execute_result",
          "data": {
            "text/plain": [
              "array([1, 2, 3, 4, 5, 6, 7, 8, 9])"
            ]
          },
          "metadata": {},
          "execution_count": 35
        }
      ]
    },
    {
      "cell_type": "code",
      "source": [
        "d2=np.arange(1,10,2)"
      ],
      "metadata": {
        "id": "cgh7N4CosocI"
      },
      "execution_count": 39,
      "outputs": []
    },
    {
      "cell_type": "code",
      "source": [
        "d2"
      ],
      "metadata": {
        "colab": {
          "base_uri": "https://localhost:8080/"
        },
        "id": "MI4QQ_I9sr-M",
        "outputId": "e245931e-5d3b-43bb-c6df-eb9f79ddb589"
      },
      "execution_count": 40,
      "outputs": [
        {
          "output_type": "execute_result",
          "data": {
            "text/plain": [
              "array([1, 3, 5, 7, 9])"
            ]
          },
          "metadata": {},
          "execution_count": 40
        }
      ]
    },
    {
      "cell_type": "code",
      "source": [
        "e=np.linspace(2,8,200)#200 differnet numbers equally space between 2 and 8 including 8"
      ],
      "metadata": {
        "id": "NKCq_TsPtQtA"
      },
      "execution_count": 43,
      "outputs": []
    },
    {
      "cell_type": "code",
      "source": [
        "e"
      ],
      "metadata": {
        "id": "abkx5kO5tU9N"
      },
      "execution_count": null,
      "outputs": []
    },
    {
      "cell_type": "code",
      "source": [
        "f=np.random.normal(0,1,400)#normal distribution"
      ],
      "metadata": {
        "id": "v7PRy_unt7Ca"
      },
      "execution_count": 48,
      "outputs": []
    },
    {
      "cell_type": "code",
      "source": [
        "f"
      ],
      "metadata": {
        "colab": {
          "base_uri": "https://localhost:8080/"
        },
        "id": "xL0xGD_8uCqM",
        "outputId": "9dd02f1c-81d8-4a92-8a71-3c207b8be285"
      },
      "execution_count": 49,
      "outputs": [
        {
          "output_type": "execute_result",
          "data": {
            "text/plain": [
              "array([-1.84590477e+00, -9.51282756e-02,  4.91793071e-01, -5.58005409e-01,\n",
              "       -1.03699750e+00, -8.31054224e-01, -6.45049640e-01, -1.81226703e+00,\n",
              "        1.65531139e+00,  2.07414413e+00, -3.95179180e-01, -3.91734516e-01,\n",
              "       -1.34656990e+00,  3.15287046e-01, -1.33112191e+00, -4.27058537e-01,\n",
              "       -9.13753448e-01, -8.57367121e-01, -1.00979628e-01, -2.09621001e-01,\n",
              "       -1.51207769e+00,  7.77668719e-01,  7.40928326e-02, -4.71063712e-01,\n",
              "        1.13144907e+00,  7.85023709e-01,  2.01394808e-01, -1.96144620e+00,\n",
              "        2.35902729e-01, -6.88814950e-01,  7.42019881e-01,  9.00709072e-01,\n",
              "        5.89519039e-01,  1.07681900e+00, -6.95905604e-02, -1.57134211e+00,\n",
              "        6.39122299e-01,  2.23659660e-01, -1.45532523e+00,  2.57605352e+00,\n",
              "       -2.22918339e-01,  4.24818198e-01,  1.30469126e+00,  1.84076740e-01,\n",
              "        8.47490862e-01, -4.19824179e-01,  1.27244619e+00,  2.77735244e-01,\n",
              "       -1.37297330e+00, -3.72172700e-01, -3.30185810e-01,  1.65704951e+00,\n",
              "        1.76651114e-01, -1.52095575e+00,  1.65376317e+00, -1.10978789e+00,\n",
              "       -1.01042260e+00, -3.57760202e-01,  1.89623050e+00,  3.53045603e-02,\n",
              "        3.06581149e-01,  4.31920762e-01,  1.15840982e+00, -1.76137002e+00,\n",
              "        1.20693945e+00, -1.21796607e+00,  1.26254528e+00, -1.77556887e+00,\n",
              "        3.42249543e-01,  8.51982596e-01,  4.28090510e-01,  1.74170889e+00,\n",
              "       -1.68538518e-01, -6.22242324e-01,  9.40413242e-01, -3.37834261e-01,\n",
              "       -1.07309742e-01,  4.49146816e-01,  7.12340525e-01,  2.18211370e-01,\n",
              "        1.06123266e+00, -3.46490687e-01,  7.06201107e-01,  8.05994214e-01,\n",
              "       -4.89349400e-01,  1.30656211e+00,  8.79398440e-01,  8.97978172e-01,\n",
              "        1.12960964e+00, -1.50090661e+00, -1.12760867e+00, -9.32651710e-02,\n",
              "        4.80983025e-01,  9.67760194e-01, -1.00560033e+00, -4.96106117e-01,\n",
              "       -1.68708023e+00,  2.42812640e+00, -1.20234747e+00, -1.18617248e+00,\n",
              "        1.64671818e+00,  6.77743848e-01, -4.56367562e-01, -1.02369547e-02,\n",
              "       -1.48223729e+00, -3.67383982e-01,  1.22329898e+00,  7.25191490e-02,\n",
              "        1.68382140e-01,  5.09666251e-01, -4.34122122e-01,  5.36441066e-01,\n",
              "        1.81660579e+00,  2.79262414e-01,  6.12789714e-01, -8.66956441e-01,\n",
              "       -1.51510440e-01,  1.58168213e+00, -2.37930497e-01, -2.06922957e+00,\n",
              "       -1.15989262e+00,  3.29025358e-01,  7.33754566e-02, -2.17705517e-01,\n",
              "       -2.99119696e-01,  1.28786809e+00,  8.92328496e-01,  6.77729080e-01,\n",
              "       -7.49396658e-01, -2.65867531e-01,  1.20969529e+00, -3.63925762e-01,\n",
              "        6.14659706e-01,  3.18169163e-01, -1.13410000e-01,  9.41508528e-02,\n",
              "        8.33669493e-02,  4.55461200e-01,  1.32529096e+00, -2.01988022e+00,\n",
              "        8.27097988e-01, -7.47262308e-01,  3.61740079e-02, -9.77879287e-01,\n",
              "        5.09972534e-01,  2.40488554e-01,  5.67912762e-02, -9.77861136e-02,\n",
              "        8.93043338e-01, -1.10071177e+00, -2.00890459e-01,  7.32314853e-01,\n",
              "        4.23480016e-01,  7.42523762e-01, -1.39132669e-01, -2.13646756e-01,\n",
              "       -2.40207658e-01,  3.28540385e-01, -2.81470378e+00,  6.83629377e-01,\n",
              "        4.59221845e-01,  9.29147795e-01, -2.46283624e-01, -6.31493200e-01,\n",
              "       -2.80891300e+00, -1.45077544e+00,  2.30206728e-01,  5.37308864e-01,\n",
              "       -1.10957971e+00,  3.46550169e-01,  5.42071867e-01, -5.67157026e-02,\n",
              "       -2.54340785e-02, -1.44706161e+00, -2.35962034e-01,  9.38739796e-01,\n",
              "        1.08611556e+00,  8.30887660e-01, -2.03002534e+00,  1.36368015e+00,\n",
              "        4.00113586e-01, -1.57578333e+00, -1.15618785e+00,  2.36958461e+00,\n",
              "        1.26763073e+00, -2.42721202e+00, -1.03589185e+00,  1.00608769e+00,\n",
              "       -3.12988468e-01,  6.55692245e-01,  9.05423263e-01,  8.99823912e-02,\n",
              "       -6.28591322e-02,  1.27078165e+00,  2.49447545e-01, -6.02924284e-01,\n",
              "       -1.44989900e+00, -3.15298875e+00,  4.90821823e-01,  2.72772162e-01,\n",
              "       -1.00037104e+00, -6.77869191e-01,  8.20148933e-01,  1.18074338e+00,\n",
              "       -1.03406202e+00,  1.66829942e-01, -7.15955213e-01,  1.70462567e+00,\n",
              "        1.02521820e+00, -4.51423650e-01, -2.08899151e+00, -8.28592757e-01,\n",
              "       -5.53621462e-01,  3.18304796e-01,  4.27516321e-02,  2.07247378e+00,\n",
              "       -6.33309873e-01,  2.79285053e-01,  7.90625902e-01,  9.84942586e-01,\n",
              "        1.02492142e+00,  2.07157275e-01,  9.88429553e-01,  9.95435719e-01,\n",
              "       -6.53794729e-01,  1.14350084e+00, -9.14747276e-01, -4.04679559e-01,\n",
              "        3.57177116e-01, -2.42416173e-01,  1.01368480e+00,  9.49040746e-01,\n",
              "       -1.24076380e+00, -3.78225940e-01,  5.17179354e-01, -1.42896183e-01,\n",
              "       -4.40545795e-01, -9.97700146e-01,  1.26576378e+00, -3.68181861e-02,\n",
              "        4.37248873e-01,  2.88012300e-02,  3.16913865e-01, -9.67998643e-01,\n",
              "       -9.91981020e-01, -4.38650516e-01, -2.48438787e-01,  2.31215742e-01,\n",
              "        2.96568435e-01,  3.95509031e-01, -4.05964590e-01,  8.85100048e-01,\n",
              "       -3.64772963e-01, -9.00328787e-01, -4.38359493e-01,  1.02761444e+00,\n",
              "       -9.22676551e-01, -1.79419919e+00, -5.53792371e-01, -9.63578575e-01,\n",
              "       -3.53982533e-01, -1.37926205e+00, -4.93285562e-01, -1.20375431e+00,\n",
              "        1.74383055e+00,  3.39544973e-01,  5.91626669e-01,  5.90869088e-01,\n",
              "       -9.13726331e-01,  1.71614846e-01, -5.31374042e-01,  6.85006910e-01,\n",
              "       -1.01532366e+00, -4.25819508e-01,  1.85991553e+00, -2.17059794e+00,\n",
              "       -2.64153407e-02,  6.71639946e-01,  2.13320825e-01,  2.11302060e-01,\n",
              "        1.45970312e-01,  8.71530462e-02,  4.71497536e-01,  8.24562771e-01,\n",
              "       -7.83970161e-03,  3.79957410e-01,  5.90388803e-01, -4.53288080e-01,\n",
              "       -1.31113759e+00,  3.32944013e-01,  7.07062937e-01, -1.39234023e+00,\n",
              "        6.92069124e-01,  1.26165449e+00, -3.20750224e-01,  6.84472100e-01,\n",
              "        4.72249208e-01, -5.67854702e-01, -1.18698505e+00,  2.92047563e-01,\n",
              "       -8.96984442e-01, -1.51049791e-01,  8.36009348e-01,  4.21679675e-01,\n",
              "       -1.79004040e-01, -2.15137058e+00, -2.76777248e+00,  1.40785901e-01,\n",
              "        8.82566973e-01,  5.59021762e-01,  1.03811864e+00,  6.61458005e-02,\n",
              "       -1.26038724e-01, -1.75342226e+00, -1.48061957e-01, -4.32943476e-01,\n",
              "        1.98618363e-01, -4.85339301e-01, -1.33798571e+00,  1.21109378e+00,\n",
              "        2.85729580e-01,  1.64851458e+00,  1.86851335e+00,  1.04082012e+00,\n",
              "        3.85493339e-01,  7.38100191e-02, -1.74327668e+00,  2.24394187e+00,\n",
              "        8.85666125e-01,  7.00044872e-01, -3.32860165e-01, -6.92474973e-01,\n",
              "       -1.11697908e+00,  1.06499376e+00, -4.10878943e-01, -1.71651022e+00,\n",
              "        2.26528571e-01,  5.28562907e-01,  9.96972300e-01, -1.61222393e-01,\n",
              "        8.52693277e-01,  9.14202648e-01,  1.00869647e+00, -3.48308507e-02,\n",
              "       -2.82719441e-01, -7.88490270e-02, -6.57061026e-01, -7.80569578e-01,\n",
              "        5.43936540e-01, -5.06436333e-01,  1.17803922e-01,  3.76058711e-01,\n",
              "       -4.57058381e-01,  5.44631550e-02, -1.57159356e+00, -1.62562247e+00,\n",
              "       -2.98380118e-01,  1.58587804e-01,  3.15130408e-01, -8.06705219e-01,\n",
              "       -3.77973974e-01, -2.33771156e-01,  2.17258860e+00,  1.10209286e+00,\n",
              "       -9.39857346e-01, -9.81389830e-01,  1.70852776e-01, -9.95834781e-01,\n",
              "        9.63655169e-01,  1.27572342e+00,  9.55143066e-01, -2.14160260e+00,\n",
              "       -1.33683541e-01,  3.70743757e-01,  1.95878001e-01, -1.50213104e-01,\n",
              "        5.17712735e-01,  1.50831696e+00,  6.09483808e-01, -2.87810619e-01,\n",
              "        4.74910641e-01, -3.31703736e-01,  7.89901965e-01,  5.55028553e-01,\n",
              "       -9.12065981e-01, -9.05335770e-05,  8.25905158e-01, -1.35121408e+00,\n",
              "        4.88283559e-01, -4.81282815e-01, -5.79144411e-01, -1.23462423e+00,\n",
              "        1.33655544e+00, -1.03518637e+00, -4.82684769e-01, -7.16374032e-01,\n",
              "       -2.38975175e-01, -1.05347243e+00, -1.40369332e+00, -2.25668486e-01])"
            ]
          },
          "metadata": {},
          "execution_count": 49
        }
      ]
    },
    {
      "cell_type": "code",
      "source": [
        "# now matplotlib\n",
        "from matplotlib import pyplot as plt"
      ],
      "metadata": {
        "id": "XAjJG_GhuOGv"
      },
      "execution_count": 50,
      "outputs": []
    },
    {
      "cell_type": "code",
      "source": [
        "plt.xlabel(\"0-200\")\n",
        "plt.ylabel(\"values\")\n",
        "plt.plot(f)\n",
        "plt.savefig(\"mybook\")"
      ],
      "metadata": {
        "colab": {
          "base_uri": "https://localhost:8080/",
          "height": 279
        },
        "id": "cnWG9evkusBc",
        "outputId": "57e3d911-55bc-4c35-fb15-7985baf8607f"
      },
      "execution_count": 52,
      "outputs": [
        {
          "output_type": "display_data",
          "data": {
            "text/plain": [
              "<Figure size 432x288 with 1 Axes>"
            ],
            "image/png": "[encoded data removed]"
          },
          "metadata": {
            "needs_background": "light"
          }
        }
      ]
    },
    {
      "cell_type": "code",
      "source": [
        "#sorting and ploting again\n",
        "sorted=np.sort(f)"
      ],
      "metadata": {
        "id": "2w-6m_4GvPhX"
      },
      "execution_count": 61,
      "outputs": []
    },
    {
      "cell_type": "code",
      "source": [
        "plt.xlabel(\"0-200\")\n",
        "plt.ylabel(\"values\")\n",
        "plt.plot(sorted)\n",
        "plt.legend()\n",
        "plt.savefig(\"mybook1.png\")"
      ],
      "metadata": {
        "colab": {
          "base_uri": "https://localhost:8080/",
          "height": 296
        },
        "id": "ahfuh8NMvVeR",
        "outputId": "49d2513b-62da-4296-e2a8-c1ef7c8d72f9"
      },
      "execution_count": 62,
      "outputs": [
        {
          "output_type": "stream",
          "name": "stderr",
          "text": [
            "WARNING:matplotlib.legend:No handles with labels found to put in legend.\n"
          ]
        },
        {
          "output_type": "display_data",
          "data": {
            "text/plain": [
              "<Figure size 432x288 with 1 Axes>"
            ],
            "image/png": "[encoded data removed]"
          },
          "metadata": {
            "needs_background": "light"
          }
        }
      ]
    },
    {
      "cell_type": "code",
      "source": [
        "plt.plot(sorted+0.5*sorted)"
      ],
      "metadata": {
        "colab": {
          "base_uri": "https://localhost:8080/",
          "height": 282
        },
        "id": "SkcYrqMnwTWv",
        "outputId": "3cafb833-e39f-44d5-91d4-f25376705ba4"
      },
      "execution_count": 64,
      "outputs": [
        {
          "output_type": "execute_result",
          "data": {
            "text/plain": [
              "[<matplotlib.lines.Line2D at 0x7f2a5f55b1d0>]"
            ]
          },
          "metadata": {},
          "execution_count": 64
        },
        {
          "output_type": "display_data",
          "data": {
            "text/plain": [
              "<Figure size 432x288 with 1 Axes>"
            ],
            "image/png": "[encoded data removed]"
          },
          "metadata": {
            "needs_background": "light"
          }
        }
      ]
    }
  ]
}